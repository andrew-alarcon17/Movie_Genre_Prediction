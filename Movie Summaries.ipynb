{
 "cells": [
  {
   "cell_type": "code",
   "execution_count": 1,
   "metadata": {},
   "outputs": [],
   "source": [
    "import numpy as np \n",
    "import pandas as pd \n",
    "import seaborn as sns\n",
    "import matplotlib.pyplot as plt\n",
    "import csv\n",
    "from sklearn.feature_extraction.text import CountVectorizer"
   ]
  },
  {
   "cell_type": "code",
   "execution_count": 2,
   "metadata": {},
   "outputs": [],
   "source": [
    "data = pd.read_csv('movie_plots.csv')"
   ]
  },
  {
   "cell_type": "code",
   "execution_count": 3,
   "metadata": {},
   "outputs": [
    {
     "data": {
      "text/html": [
       "<div>\n",
       "<style scoped>\n",
       "    .dataframe tbody tr th:only-of-type {\n",
       "        vertical-align: middle;\n",
       "    }\n",
       "\n",
       "    .dataframe tbody tr th {\n",
       "        vertical-align: top;\n",
       "    }\n",
       "\n",
       "    .dataframe thead th {\n",
       "        text-align: right;\n",
       "    }\n",
       "</style>\n",
       "<table border=\"1\" class=\"dataframe\">\n",
       "  <thead>\n",
       "    <tr style=\"text-align: right;\">\n",
       "      <th></th>\n",
       "      <th>Release Year</th>\n",
       "      <th>Title</th>\n",
       "      <th>Origin/Ethnicity</th>\n",
       "      <th>Director</th>\n",
       "      <th>Cast</th>\n",
       "      <th>Genre</th>\n",
       "      <th>Wiki Page</th>\n",
       "      <th>Plot</th>\n",
       "    </tr>\n",
       "  </thead>\n",
       "  <tbody>\n",
       "    <tr>\n",
       "      <th>0</th>\n",
       "      <td>1901</td>\n",
       "      <td>Kansas Saloon Smashers</td>\n",
       "      <td>American</td>\n",
       "      <td>Unknown</td>\n",
       "      <td>NaN</td>\n",
       "      <td>unknown</td>\n",
       "      <td>https://en.wikipedia.org/wiki/Kansas_Saloon_Sm...</td>\n",
       "      <td>A bartender is working at a saloon, serving dr...</td>\n",
       "    </tr>\n",
       "    <tr>\n",
       "      <th>1</th>\n",
       "      <td>1901</td>\n",
       "      <td>Love by the Light of the Moon</td>\n",
       "      <td>American</td>\n",
       "      <td>Unknown</td>\n",
       "      <td>NaN</td>\n",
       "      <td>unknown</td>\n",
       "      <td>https://en.wikipedia.org/wiki/Love_by_the_Ligh...</td>\n",
       "      <td>The moon, painted with a smiling face hangs ov...</td>\n",
       "    </tr>\n",
       "    <tr>\n",
       "      <th>2</th>\n",
       "      <td>1901</td>\n",
       "      <td>The Martyred Presidents</td>\n",
       "      <td>American</td>\n",
       "      <td>Unknown</td>\n",
       "      <td>NaN</td>\n",
       "      <td>unknown</td>\n",
       "      <td>https://en.wikipedia.org/wiki/The_Martyred_Pre...</td>\n",
       "      <td>The film, just over a minute long, is composed...</td>\n",
       "    </tr>\n",
       "    <tr>\n",
       "      <th>3</th>\n",
       "      <td>1901</td>\n",
       "      <td>Terrible Teddy, the Grizzly King</td>\n",
       "      <td>American</td>\n",
       "      <td>Unknown</td>\n",
       "      <td>NaN</td>\n",
       "      <td>unknown</td>\n",
       "      <td>https://en.wikipedia.org/wiki/Terrible_Teddy,_...</td>\n",
       "      <td>Lasting just 61 seconds and consisting of two ...</td>\n",
       "    </tr>\n",
       "    <tr>\n",
       "      <th>4</th>\n",
       "      <td>1902</td>\n",
       "      <td>Jack and the Beanstalk</td>\n",
       "      <td>American</td>\n",
       "      <td>George S. Fleming, Edwin S. Porter</td>\n",
       "      <td>NaN</td>\n",
       "      <td>unknown</td>\n",
       "      <td>https://en.wikipedia.org/wiki/Jack_and_the_Bea...</td>\n",
       "      <td>The earliest known adaptation of the classic f...</td>\n",
       "    </tr>\n",
       "  </tbody>\n",
       "</table>\n",
       "</div>"
      ],
      "text/plain": [
       "   Release Year                             Title Origin/Ethnicity  \\\n",
       "0          1901            Kansas Saloon Smashers         American   \n",
       "1          1901     Love by the Light of the Moon         American   \n",
       "2          1901           The Martyred Presidents         American   \n",
       "3          1901  Terrible Teddy, the Grizzly King         American   \n",
       "4          1902            Jack and the Beanstalk         American   \n",
       "\n",
       "                             Director Cast    Genre  \\\n",
       "0                             Unknown  NaN  unknown   \n",
       "1                             Unknown  NaN  unknown   \n",
       "2                             Unknown  NaN  unknown   \n",
       "3                             Unknown  NaN  unknown   \n",
       "4  George S. Fleming, Edwin S. Porter  NaN  unknown   \n",
       "\n",
       "                                           Wiki Page  \\\n",
       "0  https://en.wikipedia.org/wiki/Kansas_Saloon_Sm...   \n",
       "1  https://en.wikipedia.org/wiki/Love_by_the_Ligh...   \n",
       "2  https://en.wikipedia.org/wiki/The_Martyred_Pre...   \n",
       "3  https://en.wikipedia.org/wiki/Terrible_Teddy,_...   \n",
       "4  https://en.wikipedia.org/wiki/Jack_and_the_Bea...   \n",
       "\n",
       "                                                Plot  \n",
       "0  A bartender is working at a saloon, serving dr...  \n",
       "1  The moon, painted with a smiling face hangs ov...  \n",
       "2  The film, just over a minute long, is composed...  \n",
       "3  Lasting just 61 seconds and consisting of two ...  \n",
       "4  The earliest known adaptation of the classic f...  "
      ]
     },
     "execution_count": 3,
     "metadata": {},
     "output_type": "execute_result"
    }
   ],
   "source": [
    "data.head()"
   ]
  },
  {
   "cell_type": "code",
   "execution_count": 4,
   "metadata": {},
   "outputs": [
    {
     "data": {
      "text/plain": [
       "34886"
      ]
     },
     "execution_count": 4,
     "metadata": {},
     "output_type": "execute_result"
    }
   ],
   "source": [
    "len(data)"
   ]
  },
  {
   "cell_type": "markdown",
   "metadata": {},
   "source": [
    "Let's remove one movie so that we can use it as a user input to test the model at the end of the notebook."
   ]
  },
  {
   "cell_type": "code",
   "execution_count": 5,
   "metadata": {},
   "outputs": [],
   "source": [
    "data = data[data['Title'] != 'The Dark Knight']"
   ]
  },
  {
   "cell_type": "code",
   "execution_count": 6,
   "metadata": {},
   "outputs": [
    {
     "data": {
      "text/plain": [
       "Index(['Release Year', 'Title', 'Origin/Ethnicity', 'Director', 'Cast',\n",
       "       'Genre', 'Wiki Page', 'Plot'],\n",
       "      dtype='object')"
      ]
     },
     "execution_count": 6,
     "metadata": {},
     "output_type": "execute_result"
    }
   ],
   "source": [
    "data.columns"
   ]
  },
  {
   "cell_type": "code",
   "execution_count": 7,
   "metadata": {},
   "outputs": [],
   "source": [
    "pd.set_option('display.max_rows', None)"
   ]
  },
  {
   "cell_type": "code",
   "execution_count": 8,
   "metadata": {},
   "outputs": [
    {
     "data": {
      "text/plain": [
       "unknown    6083\n",
       "drama      5964\n",
       "comedy     4379\n",
       "horror     1167\n",
       "action     1098\n",
       "Name: Genre, dtype: int64"
      ]
     },
     "execution_count": 8,
     "metadata": {},
     "output_type": "execute_result"
    }
   ],
   "source": [
    "data['Genre'].value_counts().head()"
   ]
  },
  {
   "cell_type": "code",
   "execution_count": 9,
   "metadata": {},
   "outputs": [],
   "source": [
    "df = data.copy()"
   ]
  },
  {
   "cell_type": "markdown",
   "metadata": {},
   "source": [
    "Let's work with a smaller data set so that it becomes less computationally heavy for the computer later when when we try to create predictions."
   ]
  },
  {
   "cell_type": "code",
   "execution_count": 10,
   "metadata": {},
   "outputs": [],
   "source": [
    "df = df.sample(5000)"
   ]
  },
  {
   "cell_type": "code",
   "execution_count": 11,
   "metadata": {},
   "outputs": [
    {
     "data": {
      "text/html": [
       "<div>\n",
       "<style scoped>\n",
       "    .dataframe tbody tr th:only-of-type {\n",
       "        vertical-align: middle;\n",
       "    }\n",
       "\n",
       "    .dataframe tbody tr th {\n",
       "        vertical-align: top;\n",
       "    }\n",
       "\n",
       "    .dataframe thead th {\n",
       "        text-align: right;\n",
       "    }\n",
       "</style>\n",
       "<table border=\"1\" class=\"dataframe\">\n",
       "  <thead>\n",
       "    <tr style=\"text-align: right;\">\n",
       "      <th></th>\n",
       "      <th>Release Year</th>\n",
       "      <th>Title</th>\n",
       "      <th>Origin/Ethnicity</th>\n",
       "      <th>Director</th>\n",
       "      <th>Cast</th>\n",
       "      <th>Genre</th>\n",
       "      <th>Wiki Page</th>\n",
       "      <th>Plot</th>\n",
       "    </tr>\n",
       "  </thead>\n",
       "  <tbody>\n",
       "    <tr>\n",
       "      <th>4183</th>\n",
       "      <td>1946</td>\n",
       "      <td>Beware</td>\n",
       "      <td>American</td>\n",
       "      <td>Bud Pollard</td>\n",
       "      <td>Louis Jordan, Frank L. Wilson</td>\n",
       "      <td>drama</td>\n",
       "      <td>https://en.wikipedia.org/wiki/Beware_(film)</td>\n",
       "      <td>Ware College is a small Black college in Ware,...</td>\n",
       "    </tr>\n",
       "    <tr>\n",
       "      <th>5231</th>\n",
       "      <td>1950</td>\n",
       "      <td>The Skipper Surprised His Wife</td>\n",
       "      <td>American</td>\n",
       "      <td>Elliott Nugent</td>\n",
       "      <td>Robert Walker, Joan Leslie</td>\n",
       "      <td>comedy</td>\n",
       "      <td>https://en.wikipedia.org/wiki/The_Skipper_Surp...</td>\n",
       "      <td>The skipper, Cmdr. William Lattimer (Robert Wa...</td>\n",
       "    </tr>\n",
       "    <tr>\n",
       "      <th>15100</th>\n",
       "      <td>2006</td>\n",
       "      <td>Two Weeks</td>\n",
       "      <td>American</td>\n",
       "      <td>Steve Stockman</td>\n",
       "      <td>Sally Field, Ben Chaplin</td>\n",
       "      <td>comedy-drama</td>\n",
       "      <td>https://en.wikipedia.org/wiki/Two_Weeks_(2006_...</td>\n",
       "      <td>Four siblings return home to their mother's ho...</td>\n",
       "    </tr>\n",
       "    <tr>\n",
       "      <th>29556</th>\n",
       "      <td>1978</td>\n",
       "      <td>Ilamai Oonjal Aadukirathu</td>\n",
       "      <td>Tamil</td>\n",
       "      <td>C. V. Sridhar</td>\n",
       "      <td>Kamal Haasan, Rajinikanth, Jayachitra, Sripriya</td>\n",
       "      <td>unknown</td>\n",
       "      <td>https://en.wikipedia.org/wiki/Ilamai_Oonjal_Aa...</td>\n",
       "      <td>Prabhu, an orphan, is brought up by his friend...</td>\n",
       "    </tr>\n",
       "    <tr>\n",
       "      <th>9024</th>\n",
       "      <td>1974</td>\n",
       "      <td>The Conversation</td>\n",
       "      <td>American</td>\n",
       "      <td>Francis Ford Coppola</td>\n",
       "      <td>Gene Hackman, John Cazale, Cindy Williams, Fre...</td>\n",
       "      <td>unknown</td>\n",
       "      <td>https://en.wikipedia.org/wiki/The_Conversation</td>\n",
       "      <td>Harry Caul is a surveillance expert who runs h...</td>\n",
       "    </tr>\n",
       "  </tbody>\n",
       "</table>\n",
       "</div>"
      ],
      "text/plain": [
       "       Release Year                           Title Origin/Ethnicity  \\\n",
       "4183           1946                          Beware         American   \n",
       "5231           1950  The Skipper Surprised His Wife         American   \n",
       "15100          2006                       Two Weeks         American   \n",
       "29556          1978       Ilamai Oonjal Aadukirathu            Tamil   \n",
       "9024           1974                The Conversation         American   \n",
       "\n",
       "                   Director  \\\n",
       "4183            Bud Pollard   \n",
       "5231         Elliott Nugent   \n",
       "15100        Steve Stockman   \n",
       "29556         C. V. Sridhar   \n",
       "9024   Francis Ford Coppola   \n",
       "\n",
       "                                                    Cast         Genre  \\\n",
       "4183                       Louis Jordan, Frank L. Wilson         drama   \n",
       "5231                          Robert Walker, Joan Leslie        comedy   \n",
       "15100                           Sally Field, Ben Chaplin  comedy-drama   \n",
       "29556    Kamal Haasan, Rajinikanth, Jayachitra, Sripriya       unknown   \n",
       "9024   Gene Hackman, John Cazale, Cindy Williams, Fre...       unknown   \n",
       "\n",
       "                                               Wiki Page  \\\n",
       "4183         https://en.wikipedia.org/wiki/Beware_(film)   \n",
       "5231   https://en.wikipedia.org/wiki/The_Skipper_Surp...   \n",
       "15100  https://en.wikipedia.org/wiki/Two_Weeks_(2006_...   \n",
       "29556  https://en.wikipedia.org/wiki/Ilamai_Oonjal_Aa...   \n",
       "9024      https://en.wikipedia.org/wiki/The_Conversation   \n",
       "\n",
       "                                                    Plot  \n",
       "4183   Ware College is a small Black college in Ware,...  \n",
       "5231   The skipper, Cmdr. William Lattimer (Robert Wa...  \n",
       "15100  Four siblings return home to their mother's ho...  \n",
       "29556  Prabhu, an orphan, is brought up by his friend...  \n",
       "9024   Harry Caul is a surveillance expert who runs h...  "
      ]
     },
     "execution_count": 11,
     "metadata": {},
     "output_type": "execute_result"
    }
   ],
   "source": [
    "df.head()"
   ]
  },
  {
   "cell_type": "markdown",
   "metadata": {},
   "source": [
    "Let's drop any ambiguous genre's from this data frame, and the rename plot to story to avoid any confusion with the function called 'plot'"
   ]
  },
  {
   "cell_type": "code",
   "execution_count": 12,
   "metadata": {},
   "outputs": [],
   "source": [
    "index_names = df[(df['Genre'] == 'unknown') | (df['Genre'] == ' usa')\n",
    "                | (df['Genre'] == ' usa, can') | (df['Genre'] == '[140]')\n",
    "                | (df['Genre'] == '[144]') | (df['Genre'] == '-')\n",
    "                | (df['Genre'] == '16 mm film') | (df['Genre'] == ' ')\n",
    "                | (df['Genre'] == ' ')].index\n",
    "df.drop(index_names, inplace = True)"
   ]
  },
  {
   "cell_type": "code",
   "execution_count": 13,
   "metadata": {},
   "outputs": [],
   "source": [
    "df.rename(columns = {'Genre': 'genre', 'Plot': 'story'}, inplace=True)"
   ]
  },
  {
   "cell_type": "code",
   "execution_count": 14,
   "metadata": {},
   "outputs": [
    {
     "data": {
      "text/plain": [
       "4135"
      ]
     },
     "execution_count": 14,
     "metadata": {},
     "output_type": "execute_result"
    }
   ],
   "source": [
    "len(df)"
   ]
  },
  {
   "cell_type": "markdown",
   "metadata": {},
   "source": [
    "Now let's create unique values for each respective genre that exists in the dataframe."
   ]
  },
  {
   "cell_type": "code",
   "execution_count": 15,
   "metadata": {},
   "outputs": [],
   "source": [
    "df['category_id'] = df[\"genre\"].factorize()[0]\n",
    "category_to_id = df[['genre','category_id']].drop_duplicates().sort_values('category_id')\n",
    "id_to_category = dict(category_to_id[['category_id', 'genre']].values)"
   ]
  },
  {
   "cell_type": "code",
   "execution_count": 16,
   "metadata": {},
   "outputs": [
    {
     "data": {
      "text/plain": [
       "{0: 'drama',\n",
       " 1: 'comedy',\n",
       " 2: 'comedy-drama',\n",
       " 3: 'musical',\n",
       " 4: 'suspense',\n",
       " 5: 'comedy, mystery',\n",
       " 6: 'crime comedy',\n",
       " 7: 'crime',\n",
       " 8: 'social drama',\n",
       " 9: 'horror',\n",
       " 10: 'biopic',\n",
       " 11: 'family',\n",
       " 12: 'fantasy / comedy',\n",
       " 13: 'western',\n",
       " 14: 'horror, dark fantasy, supernatural horror, action, monster, spy',\n",
       " 15: 'fantasy',\n",
       " 16: 'drama, family',\n",
       " 17: 'crime drama',\n",
       " 18: 'romance/drama',\n",
       " 19: 'family drama',\n",
       " 20: 'action, drama, adventure',\n",
       " 21: 'musical comedy',\n",
       " 22: 'action',\n",
       " 23: 'thriller',\n",
       " 24: 'serial',\n",
       " 25: 'drama, social',\n",
       " 26: 'siddharth narayan, charmme, sada',\n",
       " 27: 'romantic drama',\n",
       " 28: 'spy action',\n",
       " 29: 'romance',\n",
       " 30: 'romantic comedy',\n",
       " 31: 'adventure',\n",
       " 32: 'animation, comedy, fantasy, family',\n",
       " 33: 'action, sci-fi, comedy, spy, tokusatsu',\n",
       " 34: 'adventure, animated, comedy',\n",
       " 35: 'historical',\n",
       " 36: 'science fiction',\n",
       " 37: 'war',\n",
       " 38: 'comedy/drama',\n",
       " 39: 'comedy, musical',\n",
       " 40: 'psychological thriller',\n",
       " 41: 'anime',\n",
       " 42: 'comedy, fantasy',\n",
       " 43: 'film noir',\n",
       " 44: 'action/drama',\n",
       " 45: 'documentary',\n",
       " 46: 'world war ii',\n",
       " 47: 'wuxia',\n",
       " 48: 'romance drama',\n",
       " 49: 'indira amperiani, bhaskara s. narayanan',\n",
       " 50: 'superhero',\n",
       " 51: 'musical drama',\n",
       " 52: 'romance, drama, musical',\n",
       " 53: 'short subject',\n",
       " 54: 'spy film',\n",
       " 55: 'mystery',\n",
       " 56: 'samurai film',\n",
       " 57: 'crime, drama',\n",
       " 58: 'action / martial arts',\n",
       " 59: 'action, crime, drama, adventure',\n",
       " 60: 'comedy, romance',\n",
       " 61: 'heist',\n",
       " 62: 'comedy thriller',\n",
       " 63: 'social',\n",
       " 64: 'romance, drama',\n",
       " 65: 'historical epic',\n",
       " 66: 'romance/comedy',\n",
       " 67: 'drama, musical',\n",
       " 68: 'world war ii/drama',\n",
       " 69: 'animated short',\n",
       " 70: 'sci-fi',\n",
       " 71: 'comedy drama',\n",
       " 72: 'drama war',\n",
       " 73: \"ravi teja, ileana d'cruz\",\n",
       " 74: 'family, musical',\n",
       " 75: 'comedy film',\n",
       " 76: 'biography, drama',\n",
       " 77: 'drama, romance, family, musical',\n",
       " 78: 'crime thriller',\n",
       " 79: 'biographical',\n",
       " 80: 'drama, war',\n",
       " 81: 'anthology',\n",
       " 82: 'adventure, drama',\n",
       " 83: 'super hit movie',\n",
       " 84: 'mockumentary',\n",
       " 85: 'romance ',\n",
       " 86: 'satire, drama',\n",
       " 87: 'drama ',\n",
       " 88: 'mythological',\n",
       " 89: 'avant-garde, drama',\n",
       " 90: 'action/romance',\n",
       " 91: 'comedy short',\n",
       " 92: 'drama, romance',\n",
       " 93: 'sci-fi comedy',\n",
       " 94: 'action thriller',\n",
       " 95: 'action-masala film',\n",
       " 96: 'drama, comedy',\n",
       " 97: 'family, spy film',\n",
       " 98: 'comedy, thriller',\n",
       " 99: 'biographical war film',\n",
       " 100: 'sci-fi, romance, thriller',\n",
       " 101: 'action, comedy, crime, romance ',\n",
       " 102: 'sci-fi drama',\n",
       " 103: 'action ',\n",
       " 104: 'comedy / fantasy',\n",
       " 105: 'biography',\n",
       " 106: 'action / drama',\n",
       " 107: 'black comedy',\n",
       " 108: 'martial arts / action / war / history',\n",
       " 109: 'war drama',\n",
       " 110: 'short comedy',\n",
       " 111: 'comedy / drama',\n",
       " 112: 'sci-fi, comedy',\n",
       " 113: 'animated',\n",
       " 114: 'devotional',\n",
       " 115: 'romantic musical',\n",
       " 116: 'sumanth, charmme',\n",
       " 117: 'crime, comedy',\n",
       " 118: 'western comedy',\n",
       " 119: 'action, comedy, drama',\n",
       " 120: 'action-comedy',\n",
       " 121: 'comedy, drama',\n",
       " 122: 'anthology, horror',\n",
       " 123: 'erotic drama',\n",
       " 124: 'action, drama',\n",
       " 125: 'animation, action, comedy, martial arts',\n",
       " 126: 'romance/thriller',\n",
       " 127: 'animated feature',\n",
       " 128: 'action / romance',\n",
       " 129: 'animation',\n",
       " 130: 'action, sci-fi',\n",
       " 131: 'romance / drama',\n",
       " 132: 'drama[not in citation given]',\n",
       " 133: 'comedy western',\n",
       " 134: 'horror/thriller',\n",
       " 135: 'science fiction anime',\n",
       " 136: 'historical, music',\n",
       " 137: 'dramedy',\n",
       " 138: 'thriller, western',\n",
       " 139: 'crime/drama',\n",
       " 140: 'stoner film',\n",
       " 141: 'drama adapted from the play by michel-marc bouchard',\n",
       " 142: 'dramedy, thriller',\n",
       " 143: 'drama, biography',\n",
       " 144: 'adventure, thriller',\n",
       " 145: 'mocatsu',\n",
       " 146: 'drama, romance ',\n",
       " 147: 'action, comedy',\n",
       " 148: 'drama/musical',\n",
       " 149: 'horror drama',\n",
       " 150: 'horror / comedy',\n",
       " 151: 'comedy ',\n",
       " 152: 'drama, romance, thriller, musical',\n",
       " 153: 'action / biography / history / war / costume',\n",
       " 154: 'sports comedy',\n",
       " 155: 'comedy horror',\n",
       " 156: 'sports',\n",
       " 157: 'martial arts',\n",
       " 158: 'action, romance, drama',\n",
       " 159: 'romance thriller drama',\n",
       " 160: 'drama / romance',\n",
       " 161: 'action-adventure',\n",
       " 162: 'romantic-comedy',\n",
       " 163: 'war film',\n",
       " 164: 'horror thriller',\n",
       " 165: 'social family drama',\n",
       " 166: 'musical fantasy',\n",
       " 167: 'drama based on the novel by j.g. ballard',\n",
       " 168: 'comedy, crime',\n",
       " 169: 'animated, comedy',\n",
       " 170: 'comedy, science fiction',\n",
       " 171: 'short black comedy',\n",
       " 172: 'stop-motion animation',\n",
       " 173: 'drama / action / romance / martial-arts',\n",
       " 174: 'action, romance',\n",
       " 175: 'action comedy',\n",
       " 176: 'political thriller',\n",
       " 177: 'romantic crime/mystery',\n",
       " 178: 'romance / action',\n",
       " 179: 'family, romantic drama',\n",
       " 180: 'thriller, drama',\n",
       " 181: 'horror, romance, comedy',\n",
       " 182: 'mystery drama',\n",
       " 183: 'action, science fiction',\n",
       " 184: 'comedy/romance',\n",
       " 185: 'comedy, action, crime',\n",
       " 186: 'war/romance',\n",
       " 187: 'sports drama',\n",
       " 188: 'drama, thriller',\n",
       " 189: 'comedy action',\n",
       " 190: 'romance, comedy',\n",
       " 191: 'animation, comedy, adventure',\n",
       " 192: 'action drama',\n",
       " 193: 'swashbuckler',\n",
       " 194: 'adventure, comedy',\n",
       " 195: 'legend romance musical',\n",
       " 196: 'drama, crime',\n",
       " 197: 'historical drama',\n",
       " 198: 'biker film',\n",
       " 199: 'drama, action',\n",
       " 200: 'war spy',\n",
       " 201: 'comedy, drama, horror',\n",
       " 202: 'concert',\n",
       " 203: 'sci-fi, thriller',\n",
       " 204: 'animation, comedy',\n",
       " 205: 'horror, mystery',\n",
       " 206: 'disaster film',\n",
       " 207: 'drama / comedy',\n",
       " 208: 'fantasy anime',\n",
       " 209: 'action, crime, drama',\n",
       " 210: 'comedy / crime',\n",
       " 211: 'romance, drama, comedy ',\n",
       " 212: 'comedy / romance',\n",
       " 213: 'spy/action',\n",
       " 214: 'musical/historical drama',\n",
       " 215: 'fantasy, horror',\n",
       " 216: 'drama, coming of age',\n",
       " 217: 'western, biography',\n",
       " 218: 'romance/action',\n",
       " 219: 'drama, sports',\n",
       " 220: 'tokusatsu, action, sci-fi',\n",
       " 221: 'superhero action adventure',\n",
       " 222: 'social thriller',\n",
       " 223: 'fairy tale',\n",
       " 224: 'crime mystery',\n",
       " 225: 'mythology',\n",
       " 226: 'historical, fantasy, adventure, action, science fantasy, superheroes',\n",
       " 227: 'action, comedy, romance',\n",
       " 228: 'social/comedy',\n",
       " 229: 'romance, action',\n",
       " 230: 'war / drama',\n",
       " 231: 'kung fu / action / drama',\n",
       " 232: 'action/crime',\n",
       " 233: 'historical fiction',\n",
       " 234: 'boxing drama',\n",
       " 235: 'melodrama',\n",
       " 236: 'thriller/comedy',\n",
       " 237: 'romance, social',\n",
       " 238: 'war, drama',\n",
       " 239: 'crime, thriller',\n",
       " 240: 'crime drama based on a true story',\n",
       " 241: 'adventure/romance',\n",
       " 242: 'comedy/crime',\n",
       " 243: 'drama, sentiment',\n",
       " 244: 'action, thriller',\n",
       " 245: 'romantic thriller',\n",
       " 246: 'action, spy',\n",
       " 247: 'science-fiction',\n",
       " 248: 'afghan war drama',\n",
       " 249: 'drama/comedy',\n",
       " 250: 'drama, epic',\n",
       " 251: 'drama, romance, youth, sci-fi, slice of life',\n",
       " 252: 'comedy-drama, slice of life, sci-fi',\n",
       " 253: 'drama-comedy-social',\n",
       " 254: 'family, fantasy',\n",
       " 255: 'action/thriller',\n",
       " 256: 'animation, fantasy',\n",
       " 257: 'action / suspense / crime',\n",
       " 258: 'zombie comedy',\n",
       " 259: 'comedy / action / adventure',\n",
       " 260: ' usa, can ',\n",
       " 261: 'comedy, western',\n",
       " 262: 'biographical drama ',\n",
       " 263: 'post-apocalyptic science fiction',\n",
       " 264: 'comedy / action',\n",
       " 265: 'fantasy, thriller',\n",
       " 266: 'action-drama film',\n",
       " 267: 'musical/drama',\n",
       " 268: 'bio-pic, drama',\n",
       " 269: 'christian',\n",
       " 270: 'teen romantic comedy-drama',\n",
       " 271: 'supernatural thriller',\n",
       " 272: 'action film, war',\n",
       " 273: 'adventure, family',\n",
       " 274: 'thriller, sci-fi, action',\n",
       " 275: 'drama, western',\n",
       " 276: 'horror comedy',\n",
       " 277: 'drama, adventure',\n",
       " 278: 'romantic comedy, teen',\n",
       " 279: 'religious',\n",
       " 280: \"historical romance based on colm tóibín's novel of the same name.\",\n",
       " 281: 'drama / mystery / crime',\n",
       " 282: 'tokusatsu',\n",
       " 283: 'animated, family',\n",
       " 284: 'horror, thriller, drama',\n",
       " 285: 'slasher',\n",
       " 286: 'slasher film',\n",
       " 287: 'revenge, thriller',\n",
       " 288: 'animated film',\n",
       " 289: 'children drama',\n",
       " 290: 'historical comedy',\n",
       " 291: 'romance, comedy, horror',\n",
       " 292: 'comedy, family',\n",
       " 293: 'family, drama',\n",
       " 294: 'national film board animated short',\n",
       " 295: 'western thriller',\n",
       " 296: 'drama, fantasy',\n",
       " 297: 'post-apocalyptic, zombie',\n",
       " 298: 'adventure, epic fantasy,',\n",
       " 299: 'yakuza',\n",
       " 300: 'war propaganda',\n",
       " 301: 'experimental',\n",
       " 302: 'action/adventure',\n",
       " 303: 'animation / family / drama / adventure / comedy',\n",
       " 304: 'race film',\n",
       " 305: 'comedy, drama, romance',\n",
       " 306: 'action / crime / comedy',\n",
       " 307: 'comedy/musical',\n",
       " 308: 'comedy/family',\n",
       " 309: 'horror, musical',\n",
       " 310: 'animated, fantasy, musical',\n",
       " 311: 'drama, mystery',\n",
       " 312: 'action, crime, drama, romance',\n",
       " 313: 'action, romantic comedy',\n",
       " 314: 'comedy romance',\n",
       " 315: 'comedy, drama ',\n",
       " 316: 'action adventure',\n",
       " 317: 'period drama',\n",
       " 318: 'social family',\n",
       " 319: 'superhero comedy',\n",
       " 320: 'romance suspense thriller',\n",
       " 321: 'comedy, teen',\n",
       " 322: 'superheroes, tokusatsu',\n",
       " 323: 'action, romance, period',\n",
       " 324: 'biography, war, drama',\n",
       " 325: 'panorama studios',\n",
       " 326: 'family, animated',\n",
       " 327: 'drama, romance, musical ',\n",
       " 328: 'drama, thriller ',\n",
       " 329: 'comedy/horror',\n",
       " 330: 'historical anime',\n",
       " 331: 'computer animated',\n",
       " 332: 'mob, neo-noir',\n",
       " 333: 'drama, comedy-drama, romance, musical, idol, youth',\n",
       " 334: 'horror musical',\n",
       " 335: 'comedy/action',\n",
       " 336: 'action/comedy',\n",
       " 337: 'horror, thriller',\n",
       " 338: 'historical adventure',\n",
       " 339: 'action, drama, romance ',\n",
       " 340: 'adventure, crime, drama',\n",
       " 341: 'supernatural',\n",
       " 342: 'action, drama, romance',\n",
       " 343: \"drama, children's, musical\",\n",
       " 344: 'drama / action / suspense',\n",
       " 345: 'romance, musical',\n",
       " 346: 'comedy/drama/action',\n",
       " 347: 'action, fantasy',\n",
       " 348: 'action, science fiction, thriller',\n",
       " 349: 'musical, romance, thriller ',\n",
       " 350: 'costume drama',\n",
       " 351: 'historical/action/drama',\n",
       " 352: 'drama, crime, thriller, sci-fi, action, spy',\n",
       " 353: 'drama, comedy-drama, musical, mystery',\n",
       " 354: 'drama / family',\n",
       " 355: 'science fiction drama supernatural',\n",
       " 356: 'action masala',\n",
       " 357: 'action / adventure / thriller',\n",
       " 358: 'drama/biographical',\n",
       " 359: 'kaiju',\n",
       " 360: 'family, science fiction',\n",
       " 361: 'parody',\n",
       " 362: 'drama, comedy, action, magical girl',\n",
       " 363: 'romance / drama / mystery',\n",
       " 364: 'romantic, comedy',\n",
       " 365: 'compilation',\n",
       " 366: 'spy/thriller',\n",
       " 367: 'drama, science fiction',\n",
       " 368: 'science fiction, adventure',\n",
       " 369: 'sci-fi, action, adventure',\n",
       " 370: 'crime, sci-fi',\n",
       " 371: 'roman porno',\n",
       " 372: 'history',\n",
       " 373: 'action / comedy',\n",
       " 374: 'warner bros. drama',\n",
       " 375: 'drama horror thriller film',\n",
       " 376: 'comedy / horror',\n",
       " 377: 'biography, comedy',\n",
       " 378: 'family film',\n",
       " 379: 'martial arts / action / biography',\n",
       " 380: 'thriller travelogue',\n",
       " 381: 'romance-horror',\n",
       " 382: 'medical drama',\n",
       " 383: 'crime/thriller',\n",
       " 384: 'spy anthology',\n",
       " 385: 'science fiction horror',\n",
       " 386: 'muslim social',\n",
       " 387: 'crime, horror',\n",
       " 388: 'musical, comedy',\n",
       " 389: 'kung fu',\n",
       " 390: 'drama, satire',\n",
       " 391: 'action / crime',\n",
       " 392: 'comedy, romance ',\n",
       " 393: 'ero',\n",
       " 394: 'pawan kalyan, asin, sandhya',\n",
       " 395: 'clay animation',\n",
       " 396: 'supernatural horror',\n",
       " 397: 'spy serial',\n",
       " 398: 'action, fantasy, adventure, horror, sci-fi, western',\n",
       " 399: 'summer camp comedy',\n",
       " 400: 'action, masala',\n",
       " 401: 'sexploitation',\n",
       " 402: 'cbc-tv miniseries',\n",
       " 403: 'mystery adventure',\n",
       " 404: 'action, drama, mystery, romance, thriller ',\n",
       " 405: 'romance, comedy, drama',\n",
       " 406: 'wuxia, comedy',\n",
       " 407: 'drama, horror',\n",
       " 408: 'family, sports',\n",
       " 409: 'romance / comedy',\n",
       " 410: 'rajiv kanakala, raja, saloni aswani, siva balaji',\n",
       " 411: 'crime, drama, mystery',\n",
       " 412: 'thriller drama',\n",
       " 413: 'short',\n",
       " 414: 'srikanth, bhavana',\n",
       " 415: 'biblical',\n",
       " 416: 'horror ',\n",
       " 417: 'comedy, satire',\n",
       " 418: 'action, family',\n",
       " 419: 'gangster thriller ',\n",
       " 420: 'nature documentary',\n",
       " 421: 'p.o.w.',\n",
       " 422: 'horror, suspense',\n",
       " 423: 'coming-of-age',\n",
       " 424: 'action/fantasy',\n",
       " 425: 'fantasy drama',\n",
       " 426: 'mystery/horror',\n",
       " 427: 'drama / action / martial arts / costume',\n",
       " 428: 'action / adventure / martial arts',\n",
       " 429: 'epic',\n",
       " 430: 'sports/comedy',\n",
       " 431: 'mystery, thriller, comedy',\n",
       " 432: 'masala',\n",
       " 433: 'action / war / adventure',\n",
       " 434: 'historical biodrama on the early years of hitler',\n",
       " 435: 'costume action',\n",
       " 436: 'action thriller, science fiction',\n",
       " 437: 'biography, war',\n",
       " 438: 'short film',\n",
       " 439: 'literary drama',\n",
       " 440: 'disaster, science fiction',\n",
       " 441: 'socio-fantasy',\n",
       " 442: 'superhero, action',\n",
       " 443: 'slapstick',\n",
       " 444: 'fantasy/thriller',\n",
       " 445: 'costume',\n",
       " 446: 'animated comedy',\n",
       " 447: 'crime, drama, family',\n",
       " 448: 'counterculture',\n",
       " 449: 'western, comedy',\n",
       " 450: 'historical crime',\n",
       " 451: 'world war i',\n",
       " 452: 'drama co-produced by the national film board',\n",
       " 453: 'romance, wuxia',\n",
       " 454: 'western, drama',\n",
       " 455: 'comedy, action',\n",
       " 456: 'propaganda',\n",
       " 457: 'war, biography',\n",
       " 458: 'silent hills studio',\n",
       " 459: 'war romance',\n",
       " 460: 'action/ drama/ thriller',\n",
       " 461: 'spy drama',\n",
       " 462: 'drama, slice of life, sports (aquatics, swimming), comedy-drama',\n",
       " 463: 'comedy/social',\n",
       " 464: 'adventure, romance, fantasy film',\n",
       " 465: 'tokusatsu, action, sci-fi, spy, superheroes',\n",
       " 466: 'drama/political thriller',\n",
       " 467: 'mohanlal, mammootty, nedumudi venu, bharath gopi',\n",
       " 468: 'sports / drama',\n",
       " 469: 'balakrishna nandamuri, sneha, tabu',\n",
       " 470: 'romance action',\n",
       " 471: 'blaxploitation',\n",
       " 472: 'drama, comedy-drama, romantic comedy',\n",
       " 473: 'biography, crime, drama',\n",
       " 474: 'martial arts / action / comedy',\n",
       " 475: 'horror/comedy',\n",
       " 476: 'action / drama / biography',\n",
       " 477: 'remake',\n",
       " 478: 'action for children',\n",
       " 479: 'action, sci-fi, mecha, spy',\n",
       " 480: 'western drama',\n",
       " 481: 'adult/crime/thriller',\n",
       " 482: 'comedy, drama film',\n",
       " 483: 'thriller, romance',\n",
       " 484: 'mystery, thriller',\n",
       " 485: 'comedy, adult comedy',\n",
       " 486: 'history / war',\n",
       " 487: 'superhero, action, adventure, fantasy, sci-fi',\n",
       " 488: 'anime science fiction',\n",
       " 489: 'action-masala',\n",
       " 490: 'drama, crime, horror',\n",
       " 491: 'musical biography',\n",
       " 492: 'drama / science-fiction',\n",
       " 493: 'science fiction, fantasy, action',\n",
       " 494: 'teen romance, comedy',\n",
       " 495: 'science fiction/musical',\n",
       " 496: 'period thriller',\n",
       " 497: 'drama comedy',\n",
       " 498: 'horror, thriller, supernatural, action, monster',\n",
       " 499: 'suspense, thriller',\n",
       " 500: 'period, revenge',\n",
       " 501: 'comedy-drama, fantasy',\n",
       " 502: 'animation / fantasy',\n",
       " 503: 'action thriller ',\n",
       " 504: 'musical/comedy',\n",
       " 505: 'historical fantasy',\n",
       " 506: 'action / fantasy / martial arts',\n",
       " 507: 'action & comedy',\n",
       " 508: 'horror, comedy',\n",
       " 509: 'drama, music, romance',\n",
       " 510: 'sports (shogi, chess), comedy-drama',\n",
       " 511: 'martial arts / action',\n",
       " 512: 'historical horror',\n",
       " 513: 'adventure, drama ',\n",
       " 514: 'spy comedy',\n",
       " 515: 'animation comedy',\n",
       " 516: 'action, thriller, romance, drama, comedy',\n",
       " 517: 'family, live-action',\n",
       " 518: 'action - thriller',\n",
       " 519: 'drama, romantic comedy',\n",
       " 520: 'slapstick comedy',\n",
       " 521: 'action, kung fu, comedy',\n",
       " 522: 'animation/ period',\n",
       " 523: 'race',\n",
       " 524: 'fantasy comedy',\n",
       " 525: 'comedy / sci-fi',\n",
       " 526: 'fantasy, drama, action, spy, superheroes, tokusatsu',\n",
       " 527: 'pow comedy',\n",
       " 528: 'social drama, comedy',\n",
       " 529: 'animation, family',\n",
       " 530: 'neo-noir, sci-fi, thriller, mystery',\n",
       " 531: 'comedy/western',\n",
       " 532: 'crime thriller, drama',\n",
       " 533: 'christian drama',\n",
       " 534: 'fantasy horror',\n",
       " 535: 'comedy based on comic strip',\n",
       " 536: 'comedy/drama/musical',\n",
       " 537: 'social romance',\n",
       " 538: 'animated, horror comedy',\n",
       " 539: 'family, comedy',\n",
       " 540: 'independent',\n",
       " 541: 'samurai',\n",
       " 542: 'comedy, spy film',\n",
       " 543: 'horror, drama',\n",
       " 544: 'war, drama, historical ',\n",
       " 545: 'horror / found footage',\n",
       " 546: 'martial arts / action / wuxia',\n",
       " 547: 'biographical drama',\n",
       " 548: 'romance, drama,',\n",
       " 549: 'sci-fi western',\n",
       " 550: 'exploitation',\n",
       " 551: 'animation/fighting',\n",
       " 552: 'drama social',\n",
       " 553: 'comedy, sci-fi',\n",
       " 554: 'horror / fantasy',\n",
       " 555: 'family, sports comedy',\n",
       " 556: 'romantic comedy-drama',\n",
       " 557: 'romantic spy drama',\n",
       " 558: 'crime, action',\n",
       " 559: 'adventure, comedy, fantasy',\n",
       " 560: 'spy',\n",
       " 561: 'computer-animated',\n",
       " 562: 'parody, sports',\n",
       " 563: 'adventure, fantasy',\n",
       " 564: 'avant-garde, horror',\n",
       " 565: 'drama/thriller',\n",
       " 566: 'fantasy costume',\n",
       " 567: 'horror comedy, parody',\n",
       " 568: 'african adventure',\n",
       " 569: 'horror / thriller',\n",
       " 570: 'political drama, thriller',\n",
       " 571: 'war family drama',\n",
       " 572: 'drama/horror/thriller',\n",
       " 573: 'family romance action',\n",
       " 574: 'horror, sci-fi, drama',\n",
       " 575: 'romance, action, comedy'}"
      ]
     },
     "execution_count": 16,
     "metadata": {},
     "output_type": "execute_result"
    }
   ],
   "source": [
    "id_to_category"
   ]
  },
  {
   "cell_type": "code",
   "execution_count": 17,
   "metadata": {},
   "outputs": [
    {
     "data": {
      "text/html": [
       "<div>\n",
       "<style scoped>\n",
       "    .dataframe tbody tr th:only-of-type {\n",
       "        vertical-align: middle;\n",
       "    }\n",
       "\n",
       "    .dataframe tbody tr th {\n",
       "        vertical-align: top;\n",
       "    }\n",
       "\n",
       "    .dataframe thead th {\n",
       "        text-align: right;\n",
       "    }\n",
       "</style>\n",
       "<table border=\"1\" class=\"dataframe\">\n",
       "  <thead>\n",
       "    <tr style=\"text-align: right;\">\n",
       "      <th></th>\n",
       "      <th>Release Year</th>\n",
       "      <th>Title</th>\n",
       "      <th>Origin/Ethnicity</th>\n",
       "      <th>Director</th>\n",
       "      <th>Cast</th>\n",
       "      <th>genre</th>\n",
       "      <th>Wiki Page</th>\n",
       "      <th>story</th>\n",
       "      <th>category_id</th>\n",
       "    </tr>\n",
       "  </thead>\n",
       "  <tbody>\n",
       "    <tr>\n",
       "      <th>4183</th>\n",
       "      <td>1946</td>\n",
       "      <td>Beware</td>\n",
       "      <td>American</td>\n",
       "      <td>Bud Pollard</td>\n",
       "      <td>Louis Jordan, Frank L. Wilson</td>\n",
       "      <td>drama</td>\n",
       "      <td>https://en.wikipedia.org/wiki/Beware_(film)</td>\n",
       "      <td>Ware College is a small Black college in Ware,...</td>\n",
       "      <td>0</td>\n",
       "    </tr>\n",
       "    <tr>\n",
       "      <th>5231</th>\n",
       "      <td>1950</td>\n",
       "      <td>The Skipper Surprised His Wife</td>\n",
       "      <td>American</td>\n",
       "      <td>Elliott Nugent</td>\n",
       "      <td>Robert Walker, Joan Leslie</td>\n",
       "      <td>comedy</td>\n",
       "      <td>https://en.wikipedia.org/wiki/The_Skipper_Surp...</td>\n",
       "      <td>The skipper, Cmdr. William Lattimer (Robert Wa...</td>\n",
       "      <td>1</td>\n",
       "    </tr>\n",
       "    <tr>\n",
       "      <th>15100</th>\n",
       "      <td>2006</td>\n",
       "      <td>Two Weeks</td>\n",
       "      <td>American</td>\n",
       "      <td>Steve Stockman</td>\n",
       "      <td>Sally Field, Ben Chaplin</td>\n",
       "      <td>comedy-drama</td>\n",
       "      <td>https://en.wikipedia.org/wiki/Two_Weeks_(2006_...</td>\n",
       "      <td>Four siblings return home to their mother's ho...</td>\n",
       "      <td>2</td>\n",
       "    </tr>\n",
       "    <tr>\n",
       "      <th>18708</th>\n",
       "      <td>1945</td>\n",
       "      <td>I'll Be Your Sweetheart</td>\n",
       "      <td>British</td>\n",
       "      <td>Val Guest</td>\n",
       "      <td>Margaret Lockwood, Vic Oliver</td>\n",
       "      <td>musical</td>\n",
       "      <td>https://en.wikipedia.org/wiki/I%27ll_Be_Your_S...</td>\n",
       "      <td>In 1900 Bob Fielding arrives in London from th...</td>\n",
       "      <td>3</td>\n",
       "    </tr>\n",
       "    <tr>\n",
       "      <th>11156</th>\n",
       "      <td>1989</td>\n",
       "      <td>Dead Calm</td>\n",
       "      <td>American</td>\n",
       "      <td>Phillip Noyce</td>\n",
       "      <td>Nicole Kidman, Sam Neill, Billy Zane</td>\n",
       "      <td>suspense</td>\n",
       "      <td>https://en.wikipedia.org/wiki/Dead_Calm_(film)</td>\n",
       "      <td>Rae Ingram (Nicole Kidman) is involved in a ca...</td>\n",
       "      <td>4</td>\n",
       "    </tr>\n",
       "  </tbody>\n",
       "</table>\n",
       "</div>"
      ],
      "text/plain": [
       "       Release Year                           Title Origin/Ethnicity  \\\n",
       "4183           1946                          Beware         American   \n",
       "5231           1950  The Skipper Surprised His Wife         American   \n",
       "15100          2006                       Two Weeks         American   \n",
       "18708          1945         I'll Be Your Sweetheart          British   \n",
       "11156          1989                       Dead Calm         American   \n",
       "\n",
       "             Director                                  Cast         genre  \\\n",
       "4183      Bud Pollard         Louis Jordan, Frank L. Wilson         drama   \n",
       "5231   Elliott Nugent            Robert Walker, Joan Leslie        comedy   \n",
       "15100  Steve Stockman              Sally Field, Ben Chaplin  comedy-drama   \n",
       "18708       Val Guest         Margaret Lockwood, Vic Oliver       musical   \n",
       "11156   Phillip Noyce  Nicole Kidman, Sam Neill, Billy Zane      suspense   \n",
       "\n",
       "                                               Wiki Page  \\\n",
       "4183         https://en.wikipedia.org/wiki/Beware_(film)   \n",
       "5231   https://en.wikipedia.org/wiki/The_Skipper_Surp...   \n",
       "15100  https://en.wikipedia.org/wiki/Two_Weeks_(2006_...   \n",
       "18708  https://en.wikipedia.org/wiki/I%27ll_Be_Your_S...   \n",
       "11156     https://en.wikipedia.org/wiki/Dead_Calm_(film)   \n",
       "\n",
       "                                                   story  category_id  \n",
       "4183   Ware College is a small Black college in Ware,...            0  \n",
       "5231   The skipper, Cmdr. William Lattimer (Robert Wa...            1  \n",
       "15100  Four siblings return home to their mother's ho...            2  \n",
       "18708  In 1900 Bob Fielding arrives in London from th...            3  \n",
       "11156  Rae Ingram (Nicole Kidman) is involved in a ca...            4  "
      ]
     },
     "execution_count": 17,
     "metadata": {},
     "output_type": "execute_result"
    }
   ],
   "source": [
    "df.head()"
   ]
  },
  {
   "cell_type": "markdown",
   "metadata": {},
   "source": [
    "Let's look at the top genre's here."
   ]
  },
  {
   "cell_type": "code",
   "execution_count": 18,
   "metadata": {},
   "outputs": [],
   "source": [
    "genre_size = df.groupby('genre').story.count()\n",
    "genre_size = genre_size.sort_values(ascending=False).head(30)"
   ]
  },
  {
   "cell_type": "code",
   "execution_count": 19,
   "metadata": {
    "scrolled": true
   },
   "outputs": [
    {
     "data": {
      "text/plain": [
       "genre\n",
       "drama              870\n",
       "comedy             609\n",
       "horror             172\n",
       "action             155\n",
       "thriller           138\n",
       "romance            130\n",
       "western            116\n",
       "crime               87\n",
       "romantic comedy     80\n",
       "adventure           79\n",
       "crime drama         74\n",
       "science fiction     61\n",
       "musical             57\n",
       "film noir           52\n",
       "mystery             52\n",
       "animation           45\n",
       "war                 42\n",
       "comedy, drama       34\n",
       "family              32\n",
       "sci-fi              32\n",
       "fantasy             30\n",
       "animated            30\n",
       "musical comedy      30\n",
       "comedy-drama        27\n",
       "anime               18\n",
       "romantic drama      18\n",
       "suspense            16\n",
       "romance, drama      14\n",
       "biography           13\n",
       "social              13\n",
       "Name: story, dtype: int64"
      ]
     },
     "execution_count": 19,
     "metadata": {},
     "output_type": "execute_result"
    }
   ],
   "source": [
    "genre_size"
   ]
  },
  {
   "cell_type": "code",
   "execution_count": 20,
   "metadata": {},
   "outputs": [],
   "source": [
    "top_df = list(genre_size.head(10).index)\n",
    "top_df = df.loc[df['genre'].isin(top_df)]\n",
    "len(top_df)\n",
    "df = top_df.copy()\n",
    "\n",
    "category_to_id = df[['genre','category_id']].drop_duplicates().sort_values('category_id')\n",
    "id_to_category = dict(category_to_id[['category_id', 'genre']].values)"
   ]
  },
  {
   "cell_type": "code",
   "execution_count": 21,
   "metadata": {},
   "outputs": [],
   "source": [
    "vectorizer = CountVectorizer(tokenizer = lambda x: x.split(','))\n",
    "\n",
    "genre_dtm = vectorizer.fit_transform(df['genre'])"
   ]
  },
  {
   "cell_type": "code",
   "execution_count": 22,
   "metadata": {},
   "outputs": [
    {
     "name": "stdout",
     "output_type": "stream",
     "text": [
      "Number of data points: 2436\n",
      "Number of unique genres: 10\n"
     ]
    }
   ],
   "source": [
    "print(\"Number of data points:\", genre_dtm.shape[0])\n",
    "print(\"Number of unique genres:\", genre_dtm.shape[1])"
   ]
  },
  {
   "cell_type": "code",
   "execution_count": 23,
   "metadata": {},
   "outputs": [
    {
     "name": "stdout",
     "output_type": "stream",
     "text": [
      "Some genres are: ['action', 'adventure', 'comedy', 'crime', 'drama', 'horror', 'romance', 'romantic comedy', 'thriller', 'western']\n"
     ]
    }
   ],
   "source": [
    "genres = vectorizer.get_feature_names()\n",
    "\n",
    "print(\"Some genres are:\", genres[:10])"
   ]
  },
  {
   "cell_type": "markdown",
   "metadata": {},
   "source": [
    "Now we have our top 10 genres we want to predict on."
   ]
  },
  {
   "cell_type": "code",
   "execution_count": 24,
   "metadata": {},
   "outputs": [],
   "source": [
    "freq = genre_dtm.sum(axis=0).A1\n",
    "result = dict(zip(genres, freq))"
   ]
  },
  {
   "cell_type": "code",
   "execution_count": 25,
   "metadata": {},
   "outputs": [],
   "source": [
    "genre_df = pd.DataFrame(list(result.items()),columns = ['Genre','Counts']) "
   ]
  },
  {
   "cell_type": "code",
   "execution_count": 26,
   "metadata": {},
   "outputs": [
    {
     "data": {
      "text/html": [
       "<div>\n",
       "<style scoped>\n",
       "    .dataframe tbody tr th:only-of-type {\n",
       "        vertical-align: middle;\n",
       "    }\n",
       "\n",
       "    .dataframe tbody tr th {\n",
       "        vertical-align: top;\n",
       "    }\n",
       "\n",
       "    .dataframe thead th {\n",
       "        text-align: right;\n",
       "    }\n",
       "</style>\n",
       "<table border=\"1\" class=\"dataframe\">\n",
       "  <thead>\n",
       "    <tr style=\"text-align: right;\">\n",
       "      <th></th>\n",
       "      <th>Genre</th>\n",
       "      <th>Counts</th>\n",
       "    </tr>\n",
       "  </thead>\n",
       "  <tbody>\n",
       "    <tr>\n",
       "      <th>0</th>\n",
       "      <td>action</td>\n",
       "      <td>155</td>\n",
       "    </tr>\n",
       "    <tr>\n",
       "      <th>1</th>\n",
       "      <td>adventure</td>\n",
       "      <td>79</td>\n",
       "    </tr>\n",
       "    <tr>\n",
       "      <th>2</th>\n",
       "      <td>comedy</td>\n",
       "      <td>609</td>\n",
       "    </tr>\n",
       "    <tr>\n",
       "      <th>3</th>\n",
       "      <td>crime</td>\n",
       "      <td>87</td>\n",
       "    </tr>\n",
       "    <tr>\n",
       "      <th>4</th>\n",
       "      <td>drama</td>\n",
       "      <td>870</td>\n",
       "    </tr>\n",
       "  </tbody>\n",
       "</table>\n",
       "</div>"
      ],
      "text/plain": [
       "       Genre  Counts\n",
       "0     action     155\n",
       "1  adventure      79\n",
       "2     comedy     609\n",
       "3      crime      87\n",
       "4      drama     870"
      ]
     },
     "execution_count": 26,
     "metadata": {},
     "output_type": "execute_result"
    }
   ],
   "source": [
    "genre_df.head()"
   ]
  },
  {
   "cell_type": "code",
   "execution_count": 27,
   "metadata": {},
   "outputs": [],
   "source": [
    "genre_df.to_csv('genre_frame.csv', index = True) "
   ]
  },
  {
   "cell_type": "code",
   "execution_count": 28,
   "metadata": {},
   "outputs": [],
   "source": [
    "genre_df_sorted = genre_df.sort_values(['Counts'], ascending=False)\n",
    "genre_counts = genre_df_sorted['Counts'].values"
   ]
  },
  {
   "cell_type": "code",
   "execution_count": 29,
   "metadata": {},
   "outputs": [
    {
     "data": {
      "text/html": [
       "<div>\n",
       "<style scoped>\n",
       "    .dataframe tbody tr th:only-of-type {\n",
       "        vertical-align: middle;\n",
       "    }\n",
       "\n",
       "    .dataframe tbody tr th {\n",
       "        vertical-align: top;\n",
       "    }\n",
       "\n",
       "    .dataframe thead th {\n",
       "        text-align: right;\n",
       "    }\n",
       "</style>\n",
       "<table border=\"1\" class=\"dataframe\">\n",
       "  <thead>\n",
       "    <tr style=\"text-align: right;\">\n",
       "      <th></th>\n",
       "      <th>Genre</th>\n",
       "      <th>Counts</th>\n",
       "    </tr>\n",
       "  </thead>\n",
       "  <tbody>\n",
       "    <tr>\n",
       "      <th>4</th>\n",
       "      <td>drama</td>\n",
       "      <td>870</td>\n",
       "    </tr>\n",
       "    <tr>\n",
       "      <th>2</th>\n",
       "      <td>comedy</td>\n",
       "      <td>609</td>\n",
       "    </tr>\n",
       "    <tr>\n",
       "      <th>5</th>\n",
       "      <td>horror</td>\n",
       "      <td>172</td>\n",
       "    </tr>\n",
       "    <tr>\n",
       "      <th>0</th>\n",
       "      <td>action</td>\n",
       "      <td>155</td>\n",
       "    </tr>\n",
       "    <tr>\n",
       "      <th>8</th>\n",
       "      <td>thriller</td>\n",
       "      <td>138</td>\n",
       "    </tr>\n",
       "  </tbody>\n",
       "</table>\n",
       "</div>"
      ],
      "text/plain": [
       "      Genre  Counts\n",
       "4     drama     870\n",
       "2    comedy     609\n",
       "5    horror     172\n",
       "0    action     155\n",
       "8  thriller     138"
      ]
     },
     "execution_count": 29,
     "metadata": {},
     "output_type": "execute_result"
    }
   ],
   "source": [
    "genre_df_sorted.head()"
   ]
  },
  {
   "cell_type": "code",
   "execution_count": 30,
   "metadata": {},
   "outputs": [
    {
     "data": {
      "text/plain": [
       "array([870, 609, 172, 155, 138, 130, 116,  87,  80,  79])"
      ]
     },
     "execution_count": 30,
     "metadata": {},
     "output_type": "execute_result"
    }
   ],
   "source": [
    "genre_counts"
   ]
  },
  {
   "cell_type": "code",
   "execution_count": 31,
   "metadata": {},
   "outputs": [
    {
     "name": "stdout",
     "output_type": "stream",
     "text": [
      "We have total 2436 datapoints.\n",
      "[1, 1, 1, 1, 1, 1, 1, 1, 1, 1]\n"
     ]
    }
   ],
   "source": [
    "genre_quest_count = genre_dtm.sum(axis=1).tolist()\n",
    "\n",
    "genre_quest_count = [int(j) for i in genre_quest_count for j in i]\n",
    "print('We have total {} datapoints.'.format(len(genre_quest_count)))\n",
    "print(genre_quest_count[:10])"
   ]
  },
  {
   "cell_type": "code",
   "execution_count": 32,
   "metadata": {},
   "outputs": [
    {
     "data": {
      "text/plain": [
       "<Figure size 1440x720 with 0 Axes>"
      ]
     },
     "metadata": {},
     "output_type": "display_data"
    },
    {
     "data": {
      "image/png": "[encoded data removed]",
      "text/plain": [
       "<Figure size 432x288 with 1 Axes>"
      ]
     },
     "metadata": {
      "needs_background": "light"
     },
     "output_type": "display_data"
    }
   ],
   "source": [
    "i = np.arange(30)\n",
    "fig = plt.figure(figsize=(20,10))\n",
    "genre_df_sorted_top = genre_df_sorted.head(20)\n",
    "genre_df_sorted_top.plot(x=\"Genre\", y=[\"Counts\"], kind='bar')\n",
    "plt.title('Frequency of top 20 genres')\n",
    "plt.xlabel('Genre')\n",
    "plt.ylabel('Counts')\n",
    "_=plt.show()"
   ]
  },
  {
   "cell_type": "markdown",
   "metadata": {},
   "source": [
    "## Quick Data Cleaning & Predictions"
   ]
  },
  {
   "cell_type": "code",
   "execution_count": 33,
   "metadata": {},
   "outputs": [],
   "source": [
    "df = df.reset_index()"
   ]
  },
  {
   "cell_type": "code",
   "execution_count": 34,
   "metadata": {},
   "outputs": [],
   "source": [
    "df = df.drop(['index'], axis=1)"
   ]
  },
  {
   "cell_type": "code",
   "execution_count": 35,
   "metadata": {},
   "outputs": [
    {
     "data": {
      "text/html": [
       "<div>\n",
       "<style scoped>\n",
       "    .dataframe tbody tr th:only-of-type {\n",
       "        vertical-align: middle;\n",
       "    }\n",
       "\n",
       "    .dataframe tbody tr th {\n",
       "        vertical-align: top;\n",
       "    }\n",
       "\n",
       "    .dataframe thead th {\n",
       "        text-align: right;\n",
       "    }\n",
       "</style>\n",
       "<table border=\"1\" class=\"dataframe\">\n",
       "  <thead>\n",
       "    <tr style=\"text-align: right;\">\n",
       "      <th></th>\n",
       "      <th>Release Year</th>\n",
       "      <th>Title</th>\n",
       "      <th>Origin/Ethnicity</th>\n",
       "      <th>Director</th>\n",
       "      <th>Cast</th>\n",
       "      <th>genre</th>\n",
       "      <th>Wiki Page</th>\n",
       "      <th>story</th>\n",
       "      <th>category_id</th>\n",
       "    </tr>\n",
       "  </thead>\n",
       "  <tbody>\n",
       "    <tr>\n",
       "      <th>0</th>\n",
       "      <td>1946</td>\n",
       "      <td>Beware</td>\n",
       "      <td>American</td>\n",
       "      <td>Bud Pollard</td>\n",
       "      <td>Louis Jordan, Frank L. Wilson</td>\n",
       "      <td>drama</td>\n",
       "      <td>https://en.wikipedia.org/wiki/Beware_(film)</td>\n",
       "      <td>Ware College is a small Black college in Ware,...</td>\n",
       "      <td>0</td>\n",
       "    </tr>\n",
       "    <tr>\n",
       "      <th>1</th>\n",
       "      <td>1950</td>\n",
       "      <td>The Skipper Surprised His Wife</td>\n",
       "      <td>American</td>\n",
       "      <td>Elliott Nugent</td>\n",
       "      <td>Robert Walker, Joan Leslie</td>\n",
       "      <td>comedy</td>\n",
       "      <td>https://en.wikipedia.org/wiki/The_Skipper_Surp...</td>\n",
       "      <td>The skipper, Cmdr. William Lattimer (Robert Wa...</td>\n",
       "      <td>1</td>\n",
       "    </tr>\n",
       "    <tr>\n",
       "      <th>2</th>\n",
       "      <td>2003</td>\n",
       "      <td>The Statement</td>\n",
       "      <td>British</td>\n",
       "      <td>Norman Jewison</td>\n",
       "      <td>Michael Caine, Tilda Swinton, Jeremy Northam</td>\n",
       "      <td>drama</td>\n",
       "      <td>https://en.wikipedia.org/wiki/The_Statement_(f...</td>\n",
       "      <td>Pierre Brossard (Michael Caine), a French Nazi...</td>\n",
       "      <td>0</td>\n",
       "    </tr>\n",
       "    <tr>\n",
       "      <th>3</th>\n",
       "      <td>2001</td>\n",
       "      <td>Blow Dry</td>\n",
       "      <td>British</td>\n",
       "      <td>Paddy Breathnach</td>\n",
       "      <td>Alan Rickman, Natasha Richardson</td>\n",
       "      <td>comedy</td>\n",
       "      <td>https://en.wikipedia.org/wiki/Blow_Dry</td>\n",
       "      <td>Shelley Allen (Natasha Richardson) operates a ...</td>\n",
       "      <td>1</td>\n",
       "    </tr>\n",
       "    <tr>\n",
       "      <th>4</th>\n",
       "      <td>2002</td>\n",
       "      <td>Spun</td>\n",
       "      <td>American</td>\n",
       "      <td>Jonas Åkerlund</td>\n",
       "      <td>Jason Schwartzman, Brittany Murphy, Mickey Rourke</td>\n",
       "      <td>comedy</td>\n",
       "      <td>https://en.wikipedia.org/wiki/Spun</td>\n",
       "      <td>Ross (Jason Schwartzman) is a customer of Spid...</td>\n",
       "      <td>1</td>\n",
       "    </tr>\n",
       "  </tbody>\n",
       "</table>\n",
       "</div>"
      ],
      "text/plain": [
       "   Release Year                           Title Origin/Ethnicity  \\\n",
       "0          1946                          Beware         American   \n",
       "1          1950  The Skipper Surprised His Wife         American   \n",
       "2          2003                   The Statement          British   \n",
       "3          2001                        Blow Dry          British   \n",
       "4          2002                            Spun         American   \n",
       "\n",
       "           Director                                               Cast  \\\n",
       "0       Bud Pollard                      Louis Jordan, Frank L. Wilson   \n",
       "1    Elliott Nugent                         Robert Walker, Joan Leslie   \n",
       "2    Norman Jewison       Michael Caine, Tilda Swinton, Jeremy Northam   \n",
       "3  Paddy Breathnach                   Alan Rickman, Natasha Richardson   \n",
       "4    Jonas Åkerlund  Jason Schwartzman, Brittany Murphy, Mickey Rourke   \n",
       "\n",
       "    genre                                          Wiki Page  \\\n",
       "0   drama        https://en.wikipedia.org/wiki/Beware_(film)   \n",
       "1  comedy  https://en.wikipedia.org/wiki/The_Skipper_Surp...   \n",
       "2   drama  https://en.wikipedia.org/wiki/The_Statement_(f...   \n",
       "3  comedy             https://en.wikipedia.org/wiki/Blow_Dry   \n",
       "4  comedy                 https://en.wikipedia.org/wiki/Spun   \n",
       "\n",
       "                                               story  category_id  \n",
       "0  Ware College is a small Black college in Ware,...            0  \n",
       "1  The skipper, Cmdr. William Lattimer (Robert Wa...            1  \n",
       "2  Pierre Brossard (Michael Caine), a French Nazi...            0  \n",
       "3  Shelley Allen (Natasha Richardson) operates a ...            1  \n",
       "4  Ross (Jason Schwartzman) is a customer of Spid...            1  "
      ]
     },
     "execution_count": 35,
     "metadata": {},
     "output_type": "execute_result"
    }
   ],
   "source": [
    "df.head()"
   ]
  },
  {
   "cell_type": "code",
   "execution_count": 36,
   "metadata": {},
   "outputs": [
    {
     "data": {
      "text/plain": [
       "(2436, 424615)"
      ]
     },
     "execution_count": 36,
     "metadata": {},
     "output_type": "execute_result"
    }
   ],
   "source": [
    "from sklearn.feature_extraction.text import TfidfVectorizer\n",
    "tfidf = TfidfVectorizer(sublinear_tf=True, min_df=1, norm='l2', encoding='latin-1', ngram_range=(1, 2))\n",
    "features = tfidf.fit_transform(df.story).toarray()\n",
    "labels = df.category_id\n",
    "features.shape"
   ]
  },
  {
   "cell_type": "code",
   "execution_count": 37,
   "metadata": {},
   "outputs": [],
   "source": [
    "from sklearn.model_selection import train_test_split\n",
    "\n",
    "from sklearn.svm import LinearSVC\n",
    "model = LinearSVC()\n",
    "X_train, X_test, y_train, y_test, indices_train, indices_test = train_test_split(features, labels, df.index, test_size=0.33, random_state=0)\n",
    "model.fit(X_train, y_train)\n",
    "y_pred = model.predict(X_test)"
   ]
  },
  {
   "cell_type": "code",
   "execution_count": 38,
   "metadata": {
    "scrolled": false
   },
   "outputs": [
    {
     "data": {
      "image/png": "[encoded data removed]",
      "text/plain": [
       "<Figure size 720x720 with 2 Axes>"
      ]
     },
     "metadata": {
      "needs_background": "light"
     },
     "output_type": "display_data"
    }
   ],
   "source": [
    "from sklearn.metrics import confusion_matrix\n",
    "conf_mat = confusion_matrix(y_test, y_pred)\n",
    "fig, ax = plt.subplots(figsize=(10,10))\n",
    "sns.heatmap(conf_mat, annot=True, fmt='d',\n",
    "            xticklabels=category_to_id.genre.values, yticklabels=category_to_id.genre.values)\n",
    "plt.ylabel('Actual')\n",
    "plt.xlabel('Predicted')\n",
    "plt.show()"
   ]
  },
  {
   "cell_type": "code",
   "execution_count": 39,
   "metadata": {},
   "outputs": [
    {
     "data": {
      "text/plain": [
       "array([[0., 0., 0., ..., 0., 0., 0.],\n",
       "       [0., 0., 0., ..., 0., 0., 0.],\n",
       "       [0., 0., 0., ..., 0., 0., 0.],\n",
       "       ...,\n",
       "       [0., 0., 0., ..., 0., 0., 0.],\n",
       "       [0., 0., 0., ..., 0., 0., 0.],\n",
       "       [0., 0., 0., ..., 0., 0., 0.]])"
      ]
     },
     "execution_count": 39,
     "metadata": {},
     "output_type": "execute_result"
    }
   ],
   "source": [
    "X_test"
   ]
  },
  {
   "cell_type": "code",
   "execution_count": 48,
   "metadata": {},
   "outputs": [],
   "source": [
    "#from sklearn.metrics import accuracy_score\n",
    "#print(\"Accuracy: \", accuracy_score(y_test, y_pred))"
   ]
  },
  {
   "cell_type": "code",
   "execution_count": 42,
   "metadata": {},
   "outputs": [],
   "source": [
    "import pickle\n",
    "filename = 'top20_genres.pickle'\n",
    "pickle.dump(model, open(filename, 'wb'))\n",
    "pickle.dump(tfidf, open(\"vectorizer_with_sw.pickle\", \"wb\"))\n",
    "pickle.dump(id_to_category, open('genre_counts_dict_dtm.csv', 'wb'))"
   ]
  },
  {
   "cell_type": "code",
   "execution_count": 43,
   "metadata": {},
   "outputs": [],
   "source": [
    "loaded_model = pickle.load(open(filename, 'rb'))\n",
    "loaded_tfidf= pickle.load(open(\"vectorizer_with_sw.pickle\", \"rb\"))\n",
    "genre_dict = pickle.load(open(\"genre_counts_dict_dtm.csv\", \"rb\"))"
   ]
  },
  {
   "cell_type": "code",
   "execution_count": 44,
   "metadata": {},
   "outputs": [
    {
     "name": "stdout",
     "output_type": "stream",
     "text": [
      "0.47512437810945274\n"
     ]
    }
   ],
   "source": [
    "result = loaded_model.score(X_test, y_test)\n",
    "print(result)"
   ]
  },
  {
   "cell_type": "code",
   "execution_count": 45,
   "metadata": {},
   "outputs": [],
   "source": [
    "from sklearn.feature_extraction.text import TfidfVectorizer\n",
    "import pandas as pd\n",
    "new_story = 'When the menace known as the Joker wreaks havoc and chaos on the people of Gotham, Batman must accept one of the greatest psychological and physical tests of his ability to fight injustice.'\n",
    "\n",
    "X_test = loaded_tfidf.transform([new_story])\n",
    "prediction = loaded_model.predict(X_test)"
   ]
  },
  {
   "cell_type": "code",
   "execution_count": 46,
   "metadata": {},
   "outputs": [
    {
     "data": {
      "text/plain": [
       "'drama'"
      ]
     },
     "execution_count": 46,
     "metadata": {},
     "output_type": "execute_result"
    }
   ],
   "source": [
    "genre_dict[prediction[0]]"
   ]
  }
 ],
 "metadata": {
  "kernelspec": {
   "display_name": "Python 3",
   "language": "python",
   "name": "python3"
  },
  "language_info": {
   "codemirror_mode": {
    "name": "ipython",
    "version": 3
   },
   "file_extension": ".py",
   "mimetype": "text/x-python",
   "name": "python",
   "nbconvert_exporter": "python",
   "pygments_lexer": "ipython3",
   "version": "3.7.6"
  }
 },
 "nbformat": 4,
 "nbformat_minor": 4
}
